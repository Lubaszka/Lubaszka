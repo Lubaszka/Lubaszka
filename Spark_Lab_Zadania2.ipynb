{
  "cells": [
    {
      "cell_type": "markdown",
      "metadata": {
        "id": "view-in-github",
        "colab_type": "text"
      },
      "source": [
        "<a href=\"https://colab.research.google.com/github/Lubaszka/Lubaszka/blob/main/Spark_Lab_Zadania2.ipynb\" target=\"_parent\"><img src=\"https://colab.research.google.com/assets/colab-badge.svg\" alt=\"Open In Colab\"/></a>"
      ]
    },
    {
      "cell_type": "markdown",
      "metadata": {
        "id": "QWUEE5fimfe7"
      },
      "source": [
        "# Zadania\n",
        "1. Utwórz dwie nowe kolumny w ramce \"Countries\", w których powierzchnia i gęstość zaludnienia wyrażone sa odpowiednio w milach kwadratowych i osobach na milę kwadratową. (1 pkt)\n",
        "  - Uwaga: w pliku wartości są wyrażone w km2, mimo że nazwy kolumn sugerują, że są to mile^2\n",
        "  - Przelicznik: 1 km kwadratowy = 0.386102 mili kwadratowej (powierzchnię należy pomnożyć, a gęstość zaludnienia podzielić przez ten współczynnik)\n",
        "  - Typami nowych kolumn mają być odpowiednio integer (powierzchnia) i float (gęstość). Zaokrąglanie do integer: \"int(x)\"\n",
        "  - Nazwy nowych kolumn proszę ustawić odpowiednio na '<tt>Area (sq mi)</tt>' oraz '<tt>Pop Density (per sq mi)</tt>'\n",
        "1. Na wykresie scatterplot narysuj zależność liczby lotnisk od powierzchni kraju. (3 pkt)\n",
        "  - Dane potrzebne do wykresu są w dwóch ramkach (Countries i Airports), konieczne więc będzie ich złączenie (join).\n",
        "  - Wskazówka: w pierwszym etapie stwórz ramkę agregującą liczbę lotnisk w zależności od kraju. W drugim etapie złącz (join) tę ramkę z ramką countries. Kolumną wspólną (warunkiem złączenia) będzie Country.\n",
        "  - Nie zawsze nazwy tych samych krajów będą identyczne w obu ramkach, co może stanowić problem (złączenie nie powstanie). Zastanów się jak przy pomocy mechanizmu złączeń wykryć, które nazwy się różnią. Stwórz odpowiednią ramkę, która zawiera takie nazwy.\n",
        "  - Następnie zmień nazwy kilku największych państw w jednej z ramek, tak żeby ujednolicić nazwy. Można to zrobić funkcją replace:\n",
        "<br><tt>cdf=cdf.replace(['Korea, South', 'Korea, North'], ['South Korea', 'North Korea'], 'Country')</tt>\n",
        "1. Do ramki \"Countries\" dodaj nową kolumnę \"Continent\" (według klasyfikacji Africa, Asia, Europe, North America, South America, Antarctica, Australia/Oceania). (2 pkt)\n",
        "  - Skorzystaj z kolumny \"Region\" i pomocniczej funkcji (UDF) mapującej region na kontynent.\n",
        "  - (bonus) Zamiast mapowania na podstawie Region, stwórz funkcję mapująca współrzędne na kontynent, np. wykorzystując geopandas i funkcję dissolve ([przykład](https://geopandas.org/en/stable/docs/user_guide/aggregation_with_dissolve.html))\n",
        "1. Oblicz, ile lotnisk jest na poszczególnych kontynentach. To zadanie również wymaga złączenia ramek \"Countries\" i \"Airports\". Wynik przedstaw na wykresie słupkowym. (1 pkt)\n"
      ]
    },
    {
      "cell_type": "markdown",
      "metadata": {
        "id": "yWefnGS4mffM"
      },
      "source": [
        "# Zadanie 1: nowe kolumny"
      ]
    },
    {
      "cell_type": "code",
      "execution_count": null,
      "metadata": {
        "id": "CyF4T9jImffN"
      },
      "outputs": [],
      "source": [
        "# TODO"
      ]
    },
    {
      "cell_type": "markdown",
      "metadata": {
        "id": "U3sFRIcumffN"
      },
      "source": [
        "# Join examples"
      ]
    },
    {
      "cell_type": "code",
      "execution_count": null,
      "metadata": {
        "id": "AthbidT0mffN"
      },
      "outputs": [],
      "source": [
        "valuesA = [('Pirate',1),('Monkey',2),('Ninja',3),('Spaghetti',4)]\n",
        "TableA = spark.createDataFrame(valuesA,['name','id'])\n",
        "\n",
        "valuesB = [('Rutabaga',1),('Pirate',2),('Ninja',3),('Darth Vader',4)]\n",
        "TableB = spark.createDataFrame(valuesB,['name','id'])"
      ]
    },
    {
      "cell_type": "code",
      "execution_count": null,
      "metadata": {
        "id": "8zOoGVLKmffN"
      },
      "outputs": [],
      "source": [
        "a=TableA.alias('a')\n",
        "b=TableB.alias('b')"
      ]
    },
    {
      "cell_type": "code",
      "execution_count": null,
      "metadata": {
        "id": "_zwME3YzmffP"
      },
      "outputs": [],
      "source": [
        "a.join(b, a.name==b.name).show() # how='inner'"
      ]
    },
    {
      "cell_type": "code",
      "execution_count": null,
      "metadata": {
        "id": "Yd0sV5dgmffP"
      },
      "outputs": [],
      "source": [
        "a.join(b, a.name==b.name, how='left').show()"
      ]
    },
    {
      "cell_type": "code",
      "execution_count": null,
      "metadata": {
        "id": "ho0Pv3jsmffQ"
      },
      "outputs": [],
      "source": [
        "a.join(b, a.name==b.name, how='right').show()"
      ]
    },
    {
      "cell_type": "code",
      "execution_count": null,
      "metadata": {
        "id": "XCgJjO69mffQ"
      },
      "outputs": [],
      "source": [
        "a.join(b, a.name==b.name, how='full_outer').show()"
      ]
    },
    {
      "cell_type": "markdown",
      "metadata": {
        "id": "R3ebRXaQmffR"
      },
      "source": [
        "# Zadanie 2: zależność liczby lotnisk od powierzchni kraju"
      ]
    },
    {
      "cell_type": "code",
      "execution_count": null,
      "metadata": {
        "id": "L6XB4gRqmffS"
      },
      "outputs": [],
      "source": [
        "# TODO\n",
        "# zacznij od stworzenia ramki, która zawiera posortowaną liczbę lotnisk w poszczególnych krajach"
      ]
    },
    {
      "cell_type": "code",
      "execution_count": null,
      "metadata": {
        "id": "5-Q0sBCxmffS"
      },
      "outputs": [],
      "source": [
        "# TODO złączenie ramek i wykres"
      ]
    },
    {
      "cell_type": "code",
      "execution_count": null,
      "metadata": {
        "id": "JhggA-U_mffS"
      },
      "outputs": [],
      "source": [
        "# TODO wykrycie niepasujących nazw państwa i ujednolicenie wartości"
      ]
    },
    {
      "cell_type": "markdown",
      "metadata": {
        "id": "AwHb2mtZmffT"
      },
      "source": [
        "# Zadanie 3"
      ]
    },
    {
      "cell_type": "code",
      "execution_count": null,
      "metadata": {
        "id": "BfrMQUpomffT"
      },
      "outputs": [],
      "source": [
        "# TODO"
      ]
    },
    {
      "cell_type": "markdown",
      "metadata": {
        "id": "t_IlYjY3mffT"
      },
      "source": [
        "# Zadanie 4"
      ]
    },
    {
      "cell_type": "code",
      "execution_count": null,
      "metadata": {
        "id": "LOzyEgE-mffT"
      },
      "outputs": [],
      "source": [
        "# TODO"
      ]
    }
  ],
  "metadata": {
    "kernelspec": {
      "display_name": "Python 3",
      "language": "python",
      "name": "python3"
    },
    "language_info": {
      "codemirror_mode": {
        "name": "ipython",
        "version": 3
      },
      "file_extension": ".py",
      "mimetype": "text/x-python",
      "name": "python",
      "nbconvert_exporter": "python",
      "pygments_lexer": "ipython3",
      "version": "3.8.5"
    },
    "colab": {
      "provenance": [],
      "include_colab_link": true
    }
  },
  "nbformat": 4,
  "nbformat_minor": 0
}